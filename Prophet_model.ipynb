{
 "cells": [
  {
   "cell_type": "code",
   "execution_count": 1,
   "id": "570759d9",
   "metadata": {},
   "outputs": [
    {
     "name": "stderr",
     "output_type": "stream",
     "text": [
      "16:06:05 - cmdstanpy - INFO - Chain [1] start processing\n",
      "16:06:05 - cmdstanpy - INFO - Chain [1] done processing\n"
     ]
    }
   ],
   "source": [
    "import numpy as np\n",
    "import pandas as pd\n",
    "import warnings\n",
    "warnings.filterwarnings('ignore')\n",
    "import prophet\n",
    "from sklearn.metrics import mean_squared_error\n",
    "import math\n",
    "from prophet import Prophet\n",
    "import pickle\n",
    "\n",
    "data= pd.read_csv(\"crude-oil-price.csv\")\n",
    "# for prophet model we need to rename the columns as ds(Date) and y(Price)\n",
    "data.rename(columns={'date': 'ds', 'price': 'y'}, inplace=True)\n",
    "data.ds=pd.to_datetime(data.ds)\n",
    "data=data[['ds','y']]\n",
    "train=data.iloc[:472]\n",
    "test=data.iloc[472:]\n",
    "model_fb = Prophet()\n",
    "model_fb.fit(train)\n",
    "\n",
    "pickle.dump(model_fb,open('model.pkl','wb'))"
   ]
  },
  {
   "cell_type": "code",
   "execution_count": null,
   "id": "9085e920",
   "metadata": {},
   "outputs": [],
   "source": []
  }
 ],
 "metadata": {
  "kernelspec": {
   "display_name": "Python 3 (ipykernel)",
   "language": "python",
   "name": "python3"
  },
  "language_info": {
   "codemirror_mode": {
    "name": "ipython",
    "version": 3
   },
   "file_extension": ".py",
   "mimetype": "text/x-python",
   "name": "python",
   "nbconvert_exporter": "python",
   "pygments_lexer": "ipython3",
   "version": "3.10.8"
  }
 },
 "nbformat": 4,
 "nbformat_minor": 5
}
